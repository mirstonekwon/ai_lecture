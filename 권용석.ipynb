{
 "cells": [
  {
   "cell_type": "code",
   "execution_count": 3,
   "id": "ecef1e07-f9ad-49e7-b416-db77b76f08ad",
   "metadata": {},
   "outputs": [
    {
     "data": {
      "text/plain": [
       "1"
      ]
     },
     "execution_count": 3,
     "metadata": {},
     "output_type": "execute_result"
    }
   ],
   "source": [
    "5 % 2"
   ]
  },
  {
   "cell_type": "code",
   "execution_count": 9,
   "id": "3d1b6bf5-820c-4e81-b79a-5ba567d95b25",
   "metadata": {},
   "outputs": [
    {
     "name": "stdout",
     "output_type": "stream",
     "text": [
      "1이 아님\n"
     ]
    }
   ],
   "source": [
    "a = 3\n",
    "if a != 1:\n",
    "    print(\"1이 아님\")"
   ]
  },
  {
   "cell_type": "code",
   "execution_count": 1,
   "id": "d2cfe162-e32f-471b-b4c6-f2fb807350ef",
   "metadata": {},
   "outputs": [
    {
     "name": "stdout",
     "output_type": "stream",
     "text": [
      "No\n"
     ]
    }
   ],
   "source": [
    "x = True\n",
    "y = False\n",
    "\n",
    "if x and y:\n",
    "    print(\"Yes\")\n",
    "else :\n",
    "    print(\"No\")"
   ]
  },
  {
   "cell_type": "code",
   "execution_count": 6,
   "id": "c2e8bf38-c36a-48f1-8b34-ac0e28063de2",
   "metadata": {},
   "outputs": [
    {
     "name": "stdout",
     "output_type": "stream",
     "text": [
      "(1, 'hello')\n",
      "(1, 'hello', 1, 'hello', 1, 'hello')\n"
     ]
    }
   ],
   "source": [
    "t1 = (1, \"hello\")\n",
    "t2 = t1 * 3\n",
    "print(t1)\n",
    "print(t2)"
   ]
  },
  {
   "cell_type": "code",
   "execution_count": 8,
   "id": "929e8963-895a-4029-bae4-efd8a1044959",
   "metadata": {},
   "outputs": [
    {
     "name": "stdout",
     "output_type": "stream",
     "text": [
      "dict_keys([1, 2, 3, 4])\n",
      "My\n",
      "dict_values(['My', 'Name', 'Is', 'Python'])\n",
      "dict_items([(1, 'My'), (2, 'Name'), (3, 'Is'), (4, 'Python')])\n"
     ]
    }
   ],
   "source": [
    "dic = {1 : \"My\" ,2 : \"Name\", 3 : \"Is\", 4 : \"Python\"}\n",
    "print(dic.keys())\n",
    "print(dic[1])\n",
    "print(dic.values())\n",
    "print(dic.items())"
   ]
  },
  {
   "cell_type": "code",
   "execution_count": 11,
   "id": "7c550af8-eb3a-4eb3-9888-67541530dcbb",
   "metadata": {},
   "outputs": [
    {
     "name": "stdout",
     "output_type": "stream",
     "text": [
      "용석 1명\n",
      "용석 2명\n",
      "용석 3명\n",
      "용석 4명\n"
     ]
    }
   ],
   "source": [
    "ys = 0;\n",
    "while ys < 4:\n",
    "    ys = ys + 1\n",
    "    print(\"용석 %d명\" %ys)"
   ]
  }
 ],
 "metadata": {
  "kernelspec": {
   "display_name": "Python 3 (ipykernel)",
   "language": "python",
   "name": "python3"
  },
  "language_info": {
   "codemirror_mode": {
    "name": "ipython",
    "version": 3
   },
   "file_extension": ".py",
   "mimetype": "text/x-python",
   "name": "python",
   "nbconvert_exporter": "python",
   "pygments_lexer": "ipython3",
   "version": "3.9.13"
  }
 },
 "nbformat": 4,
 "nbformat_minor": 5
}
